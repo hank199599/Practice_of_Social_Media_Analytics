{
 "cells": [
  {
   "cell_type": "markdown",
   "metadata": {},
   "source": [
    "# 進行資料處理"
   ]
  },
  {
   "cell_type": "code",
   "execution_count": 2,
   "metadata": {},
   "outputs": [],
   "source": [
    "import numpy as np\n",
    "import random\n",
    "import networkx as nx\n",
    "import IPython.display as plt \n",
    "from sklearn.metrics import accuracy_score\n",
    "from sklearn.metrics import roc_curve\n",
    "from sklearn.metrics import roc_auc_score\n",
    "import csv"
   ]
  },
  {
   "cell_type": "code",
   "execution_count": 3,
   "metadata": {},
   "outputs": [],
   "source": [
    "G = nx.Graph()\n",
    "nodes = []"
   ]
  },
  {
   "cell_type": "code",
   "execution_count": 4,
   "metadata": {},
   "outputs": [
    {
     "name": "stdout",
     "output_type": "stream",
     "text": [
      "1005\n"
     ]
    }
   ],
   "source": [
    "for i in range(0,1005):\n",
    "    G.add_node(str(i))\n",
    "\n",
    "print(G.number_of_nodes())"
   ]
  },
  {
   "cell_type": "code",
   "execution_count": 5,
   "metadata": {},
   "outputs": [],
   "source": [
    "with open('.\\data_train_edge.csv',newline='') as train_data:\n",
    "    train = csv.reader(train_data)\n",
    "    for n1,n2 in train:\n",
    "        G.add_edges_from([(n1,n2)])"
   ]
  },
  {
   "cell_type": "markdown",
   "metadata": {},
   "source": [
    "# 印出與圖相關的訊息"
   ]
  },
  {
   "cell_type": "code",
   "execution_count": 6,
   "metadata": {},
   "outputs": [
    {
     "name": "stdout",
     "output_type": "stream",
     "text": [
      "Number of nodes:1007\nNumber of edges:14284\nNUmber of connected components: 37\n"
     ]
    }
   ],
   "source": [
    "n = G.number_of_nodes()\n",
    "m = G.number_of_edges()\n",
    "\n",
    "print(\"Number of nodes:%d\"% n )\n",
    "print(\"Number of edges:%d\"% m )\n",
    "print(\"NUmber of connected components: %d\" % nx.number_connected_components(G))"
   ]
  },
  {
   "cell_type": "markdown",
   "metadata": {},
   "source": [
    "# 進行預測，生成CSV檔案並輸出"
   ]
  },
  {
   "cell_type": "code",
   "execution_count": 10,
   "metadata": {
    "tags": []
   },
   "outputs": [],
   "source": [
    "results=[]\n",
    "j=0\n",
    "\n",
    "with open('./answer.csv','w', newline='') as ans:\n",
    "    writer = csv.writer(ans)\n",
    "    writer.writerow(['predict_nodepair_id','ans'])\n",
    "    with open('./predict.csv') as test:\n",
    "        predict = csv.reader(test)\n",
    "        next(predict)\n",
    "        for n1,n2 in predict:\n",
    "            #PA = list(nx.preferential_attachment(G,[(n1,n2)]))\n",
    "            pred_jaccard = list(nx.jaccard_coefficient(G,[(n1,n2)]))\n",
    "            #Adamic = list(nx.adamic_adar_index(G,[(n1,n2)]))\n",
    "            if pred_jaccard[0][2] > 0.051:\n",
    "                writer.writerow([j,1])\n",
    "            else:\n",
    "                writer.writerow([j,0])\n",
    "            j+=1"
   ]
  }
 ],
 "metadata": {
  "environment": {
   "name": "common-cpu.m65",
   "type": "gcloud",
   "uri": "gcr.io/deeplearning-platform-release/base-cpu:m65"
  },
  "kernelspec": {
   "name": "python385jvsc74a57bd049d76db75e1e28746d71c3f6b25c62af887e3a226b459dd4a66c59b073abe6db",
   "display_name": "Python 3.8.5 64-bit (conda)"
  },
  "language_info": {
   "codemirror_mode": {
    "name": "ipython",
    "version": 3
   },
   "file_extension": ".py",
   "mimetype": "text/x-python",
   "name": "python",
   "nbconvert_exporter": "python",
   "pygments_lexer": "ipython3",
   "version": "3.8.5"
  }
 },
 "nbformat": 4,
 "nbformat_minor": 5
}
